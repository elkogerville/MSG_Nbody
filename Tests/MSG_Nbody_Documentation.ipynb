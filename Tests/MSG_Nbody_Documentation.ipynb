{
 "cells": [
  {
   "cell_type": "markdown",
   "id": "2e4cbdaf-63d4-46bc-8ef1-b8fad613e53d",
   "metadata": {},
   "source": [
    "# Galaxy Merger Simulation of Two Disk Galaxies\n",
    "\\\n",
    "This program shows the user how to set up and run a simulation between two disk galaxies, and how to complete a preliminary analysis of the results. The disk galaxy models were generated using the Agama package (Vasiliev, 2018), and are in quasi-equilibrium when simulated in isolation. Due to the algorithm scaling as O(N$^2$), many of the important components found in spiral galaxies such as gas, dark matter, central black hole, and bulge were omitted, which are integral in keeping the model in equilibrium. This program simulates the interaction between a 10:1 merger of a larger galaxy and a smaller satellite galaxy in a violent collision event.\n",
    "\n",
    "N-body simulations work by calculating the motion of each particle through time and space based on the mutual softened gravitational attraction from all the other particles in the simulation using equation (1). Thus, similarly to chaotic systems and other numerical integration problems, N-body simulations are heavily dependent on the initial conditions of the simulation. As such, most of the work in running simulations is coming up with a suitable set of initial conditions.\n",
    "$$\n",
    "g_{i} = -G\\sum_{j\\ne i}m_{j}\\frac{r_{i}-r_{j}}{(|r_{i}-r_{j}|^{2} + \\epsilon^{2} )^{3/2}} \\qquad (1)\n",
    "$$\n",
    "***\n",
    "Please ensure MSG_Nbody is installed via pip before running the program. \n",
    "\n",
    "***\n",
    "## Table of Contents:\n",
    "### Steps in running a simulation:\n",
    "- load initial conditions and create copies for the host and satellite galaxy\n",
    "- scale the positions, velocities, and masses of the host and satellite galaxy relative to each other; e.i. make the host galaxy 10x more massive\n",
    "- add disk inclination if desired\n",
    "- set the galaxies on a collision course\n",
    "- merge the initial conditions into 3 contiguous NumPy arrays\n",
    "- run the simulation and analyze the results!"
   ]
  },
  {
   "cell_type": "code",
   "execution_count": 2,
   "id": "d05b4fef-3abf-49aa-b9ca-5666639c99de",
   "metadata": {},
   "outputs": [],
   "source": [
    "from MSG_Nbody import *"
   ]
  },
  {
   "cell_type": "markdown",
   "id": "f48aaab1-aa0f-4853-9993-e129e8da2387",
   "metadata": {},
   "source": [
    "## Loading initial conditions:\n",
    "To save computational time, the initial conditions of the spiral galaxy have been precomputed and can be read into Python as a .txt file. Initial conditions for N-body simulations require initial positions, velocities, and masses of each particle in the simulation. For clarity, we will store each parameter in a separate array. For N particles, the position and velocity arrays should have dimensions of N x 3 (this simulation is in 3 dimensions) while masses N x 1. However, the initial conditions provided are stored in an N x 7 array $(x, y, z, v_x, v_y, v_z, m)$ and therefore need to be reshaped. We will write a function to do this efficiently."
   ]
  },
  {
   "cell_type": "code",
   "execution_count": 3,
   "id": "82aa7dd1-ebb6-417e-a1f8-13e7ba996b19",
   "metadata": {},
   "outputs": [
    {
     "name": "stdout",
     "output_type": "stream",
     "text": [
      "final host disk galaxy mass: 2.573805180000001\n"
     ]
    }
   ],
   "source": [
    "# load in initial positions, velocities, and masses for host galaxy\n",
    "host_pos, host_vel, host_mass = load_initial_conditions('initial_conditions/model_disk_3000')\n",
    "# print final host galaxy mass\n",
    "print(f'final host disk galaxy mass: {np.sum(host_mass)}')"
   ]
  },
  {
   "cell_type": "markdown",
   "id": "fbbaa4a0-29f6-4d2a-aab7-aa4a0a1cd9ba",
   "metadata": {},
   "source": [
    "## Scaling initial conditions\n",
    "Now that the initial conditions are loaded into Python, we can scale them to create different galaxy models. For this simulation, a smaller 'satellite' galaxy will merge with a larger, more massive 'host' galaxy. We will write another function that scales the positions, velocities, and masses. In this simulation, the mass ratio between the host galaxy and the satellite galaxy is ~10 : 1."
   ]
  },
  {
   "cell_type": "code",
   "execution_count": 4,
   "id": "6f6a3a58-d772-429f-a136-bfd588f89acc",
   "metadata": {},
   "outputs": [
    {
     "name": "stdout",
     "output_type": "stream",
     "text": [
      "final satellite disk galaxy mass: 0.9999999999999993\n",
      "final host disk galaxy mass: 10.037840201999998\n"
     ]
    }
   ],
   "source": [
    "# initiate satellite galaxy \n",
    "initial_mass = np.sum(host_mass)\n",
    "\n",
    "# divide by the total mass to normalize the satellite galaxy mass\n",
    "R = 1/initial_mass\n",
    "M = 1/initial_mass\n",
    "sat_pos, sat_vel, sat_mass = scale_initial_positions(host_pos, host_vel, host_mass, R, M)\n",
    "# scale host galaxy initial conditions\n",
    "host_pos, host_vel, host_mass = scale_initial_positions(host_pos, host_vel, host_mass, 1.0, 3.9)\n",
    "\n",
    "print(f'final satellite disk galaxy mass: {np.sum(sat_mass)}')\n",
    "print(f'final host disk galaxy mass: {np.sum(host_mass)}')"
   ]
  },
  {
   "cell_type": "markdown",
   "id": "20bd627c-1337-4530-a905-78a81d2cb48b",
   "metadata": {},
   "source": [
    "## Adding disk inclination to the galaxy model\n",
    "We can also rotate the disk about a specified axis using a rotation matrix, which will rotate the disk around the $x, y,$ or $z$ axis. In this example, we will rotate the satellite galaxy around the $y$ axis by 45º."
   ]
  },
  {
   "cell_type": "code",
   "execution_count": 6,
   "id": "46d69b6f-0ffa-4e05-92a0-e1f3f3b8d235",
   "metadata": {},
   "outputs": [],
   "source": [
    "# rotate around y axis by 45º\n",
    "sat_pos, sat_vel = rotate_disk(sat_pos, sat_vel, 45, 'y')"
   ]
  },
  {
   "cell_type": "markdown",
   "id": "95e3139f-8d6d-40d4-b856-4b4b296158c6",
   "metadata": {},
   "source": [
    "## Set galaxies on a collision course\n",
    "Both galaxies are by default located at the origin. Thus, we must move the satellite galaxy far from the host galaxy by adding the coordinates of where we want to place it to its position array. We then add a velocity vector to the velocity array of the satellite galaxy pointing in the direction of the host galaxy to set them on a collision course. This vector must be less than the escape velocity of the satellite galaxy if the two galaxies are to merge. We can calculate the escape velocity easily with the escape_v function. For this simulation, we will place the satellite galaxy 40 units away in the x and y direction from the host galaxy."
   ]
  },
  {
   "cell_type": "code",
   "execution_count": 7,
   "id": "ba03f437-1aff-4761-a1e7-15ac5ea2374b",
   "metadata": {},
   "outputs": [
    {
     "name": "stdout",
     "output_type": "stream",
     "text": [
      "escape velocity: 0.49710616907788746\n"
     ]
    }
   ],
   "source": [
    "# calculate the escape velocity of the satellite galaxy placed at x=50,y=50,z=40\n",
    "P0 = [50.0, 50.0, 40.0]\n",
    "escape_velocity = compute_escape_velocity(P0[0], P0[1], P0[2], np.sum(host_mass))\n",
    "print(f'escape velocity: {escape_velocity}')"
   ]
  },
  {
   "cell_type": "markdown",
   "id": "24b52999-8ea3-409b-99c6-3441a3ba6993",
   "metadata": {},
   "source": [
    "The magnitude of the escape velocity is ~0.5, which can be divided into $vx, vy$, and $vz$ components. To keep things simple, we will keep the host galaxy at rest and set the satellite galaxy on an elliptical orbit into the host galaxy. We can keep the host galaxy at rest if we assume we are in the frame of reference of the host galaxy."
   ]
  },
  {
   "cell_type": "code",
   "execution_count": 8,
   "id": "d4e89d0d-9750-4103-94d3-6c9c6dcc9295",
   "metadata": {},
   "outputs": [
    {
     "name": "stdout",
     "output_type": "stream",
     "text": [
      "magnitude of satellite galaxy trajectory velocity:  0.42\n"
     ]
    }
   ],
   "source": [
    "V0 = [-0.42, 0.0, 0.0]\n",
    "print('magnitude of satellite galaxy trajectory velocity: ', np.sqrt(V0[0]**2 + V0[1]**2 + V0[2]**2))\n",
    "# move satellite galaxy to its initial position\n",
    "sat_pos += P0\n",
    "# give the satellite galaxy a velocity in the negative x direction less than the escape velocity to put it on a collision path\n",
    "# the velocity is negative because, from the satellite galaxy, the host galaxy is in the negative x direction\n",
    "sat_vel += V0\n",
    "# flip the direction of rotation of the host galaxy for stronger gravitational tidal forces\n",
    "host_vel = host_vel*-1"
   ]
  },
  {
   "cell_type": "markdown",
   "id": "9ad644c2-f397-4e57-9016-76f1150557e8",
   "metadata": {},
   "source": [
    "## Merge the arrays into master position, velocity, and mass arrays\n",
    "To ensure Numba works properly, it is advantageous to create contiguous NumPy arrays which store the data in the same physical memory location on your computer for faster computation times. This is done easily in NumPy with the function below."
   ]
  },
  {
   "cell_type": "code",
   "execution_count": 9,
   "id": "8719a9c7-511c-4586-97b6-8a917813373a",
   "metadata": {},
   "outputs": [
    {
     "name": "stdout",
     "output_type": "stream",
     "text": [
      "positions shape: (6000, 3), velocities shape: (6000, 3), masses shape: (6000, 1) total simulation mass: 11.037840201999998\n"
     ]
    }
   ],
   "source": [
    "pos_list = [host_pos, sat_pos]\n",
    "vel_list = [host_vel, sat_vel]\n",
    "mass_list = [host_mass, sat_mass]\n",
    "positions, velocities, masses = concatenate_initial_conditions(pos_list, vel_list, mass_list, save_2_disk=True)"
   ]
  },
  {
   "cell_type": "markdown",
   "id": "8cc639df-9f51-431d-9da9-e978e1e86d06",
   "metadata": {},
   "source": [
    "Printing the shape of the position, velocity, and mass arrays, we can see they are now a combination of both galaxies' initial conditions. Since each galaxy had a particle count of N = 3000, the total particle count is now 6,000. We also see the total simulation mass is 11 which makes sense since we are simulating a 10:1 merger."
   ]
  },
  {
   "cell_type": "markdown",
   "id": "4064a56d-3407-4ef9-941f-daba76c6ad2d",
   "metadata": {},
   "source": [
    "## Visualizing the simulation setup\n",
    "before running an expensive simulation, we should verify visually that everything is as it should be! We can create a function to graph simulation snapshots easily which will also be useful when analyzing the results."
   ]
  },
  {
   "cell_type": "code",
   "execution_count": 12,
   "id": "94b8efcf-c6f2-48f3-937c-cafda1161fd2",
   "metadata": {},
   "outputs": [
    {
     "data": {
      "image/png": "[encoded data removed]",
      "text/plain": [
       "<Figure size 1000x500 with 2 Axes>"
      ]
     },
     "metadata": {},
     "output_type": "display_data"
    }
   ],
   "source": [
    "# display the initial simulation setup!\n",
    "galaxies = [host_pos[np.newaxis,:,:], sat_pos[np.newaxis,:,:]]\n",
    "display_galaxies(galaxies, 0, scale=65)"
   ]
  },
  {
   "cell_type": "markdown",
   "id": "3e28c285-a77e-4cdf-ac7a-9354056fdab2",
   "metadata": {},
   "source": [
    "# Run the Simulation!\n",
    "## N-body Simulation Code\n",
    "This function is responsible for integrating the motion of each particle and is the main simulation loop. With each piece of the simulation ready, we can run the simulation and then animate the results! This will require substantial CPU operations and RAM to run. If you don't want to run the simulation on your laptop, you can alternatively download the snapshots that I precomputed on my laptop to finish the guide.\n",
    "***\n",
    "Running this cell will slam multiple CPU cores and take up considerable RAM. This simulation took about 20 minutes on my M2 macbook air with 16GB of RAM. The progress bar gives you a good estimate of the remaining computation time, as well as iterations per second. There will be an initial header where the just-in-time Numba compiler has to compile the program into machine code for faster execution. After this, the progress bar should appear. The function will automatically create a directory to save simulation snapshots!"
   ]
  },
  {
   "cell_type": "code",
   "execution_count": 14,
   "id": "6fb0684b-b729-4a98-a194-76934316193c",
   "metadata": {},
   "outputs": [
    {
     "name": "stdout",
     "output_type": "stream",
     "text": [
      "simulation running....  /ᐠ –ꞈ –ᐟ\\<[pls be patient]\n"
     ]
    },
    {
     "name": "stderr",
     "output_type": "stream",
     "text": [
      "100%|███████████████████████████████████████| 2000/2000 [24:08<00:00,  1.38it/s]\n"
     ]
    },
    {
     "data": {
      "text/plain": [
       "'simulation complete [yay!!! (ﾐΦ ﻌ Φﾐ)✿ *ᵖᵘʳʳ*]'"
      ]
     },
     "execution_count": 14,
     "metadata": {},
     "output_type": "execute_result"
    }
   ],
   "source": [
    "# run N-body simulation\n",
    "MSG_nbody(positions, velocities, masses, 0.1, 2000, snapshot_save_rate=10)"
   ]
  },
  {
   "cell_type": "markdown",
   "id": "f283d3ae-b801-4239-be20-9df5a7158848",
   "metadata": {},
   "source": [
    "# Viewing the Simulation\n",
    "We must now load the snapshots back into Python by looping through each timestep and saving it to an array. We will write a function that outputs separate position, velocity, and potential arrays for each galaxy. The array will have 3 indexes, one for timesteps, one for number of particles, and one for number of dimensions ($x, y, z$)"
   ]
  },
  {
   "cell_type": "code",
   "execution_count": 16,
   "id": "d333a1a3-74d7-4e86-92e2-b3c7728d04cc",
   "metadata": {},
   "outputs": [
    {
     "name": "stderr",
     "output_type": "stream",
     "text": [
      "100%|███████████████████████████████████████| 201/201 [00:00<00:00, 1317.07it/s]\n"
     ]
    }
   ],
   "source": [
    "directory = '/Users/elkosepicnewcomputer/Desktop/code/A330/N-BODY/MSG_Nbody_v3/simulation_outputs_N6000/*'\n",
    "positions, velocities, potential = load_simulation_outputs(directory, [3000, 3000])"
   ]
  },
  {
   "cell_type": "code",
   "execution_count": null,
   "id": "c2855faa-7665-4651-a167-23c1882cdd92",
   "metadata": {},
   "outputs": [],
   "source": []
  }
 ],
 "metadata": {
  "kernelspec": {
   "display_name": "Miniconda Base",
   "language": "python",
   "name": "base"
  },
  "language_info": {
   "codemirror_mode": {
    "name": "ipython",
    "version": 3
   },
   "file_extension": ".py",
   "mimetype": "text/x-python",
   "name": "python",
   "nbconvert_exporter": "python",
   "pygments_lexer": "ipython3",
   "version": "3.12.9"
  }
 },
 "nbformat": 4,
 "nbformat_minor": 5
}
